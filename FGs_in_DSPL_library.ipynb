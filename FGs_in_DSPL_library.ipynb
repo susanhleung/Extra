{
 "cells": [
  {
   "cell_type": "code",
   "execution_count": 1,
   "metadata": {},
   "outputs": [],
   "source": [
    "import sys\n",
    "sys.path.append(\"/home/susan/rdkit/Contrib/IFG/\")\n",
    "import ifg\n",
    "from rdkit import Chem\n",
    "import pandas as pd\n",
    "import operator\n",
    "from rdkit.Chem import Draw\n",
    "from rdkit.Chem.Draw import IPythonConsole"
   ]
  },
  {
   "cell_type": "markdown",
   "metadata": {},
   "source": [
    "Let's try one example SMILES"
   ]
  },
  {
   "cell_type": "code",
   "execution_count": 2,
   "metadata": {},
   "outputs": [
    {
     "data": {
      "text/plain": [
       "[IFG(atomIds=(2,), atoms='n', type='cnc'),\n",
       " IFG(atomIds=(4, 5, 6, 7), atoms='NS(=O)=O', type='cNS(c)(=O)=O'),\n",
       " IFG(atomIds=(12,), atoms='N', type='cN'),\n",
       " IFG(atomIds=(15,), atoms='n', type='cnc')]"
      ]
     },
     "execution_count": 2,
     "metadata": {},
     "output_type": "execute_result"
    }
   ],
   "source": [
    "m = Chem.MolFromSmiles('Cc1nc(NS(=O)(=O)c2ccc(N)cc2)nc(C)c1')\n",
    "ifg.identify_functional_groups(m)"
   ]
  },
  {
   "cell_type": "markdown",
   "metadata": {},
   "source": [
    "For one molecule it outputs a list of all functional groups present"
   ]
  },
  {
   "cell_type": "markdown",
   "metadata": {},
   "source": [
    "Let's try using it with the DSPL full library found here\n",
    "https://www.diamond.ac.uk/Instruments/dms/MX/FragmentsResources/DSPL_full_library.xlsx"
   ]
  },
  {
   "cell_type": "code",
   "execution_count": 3,
   "metadata": {},
   "outputs": [],
   "source": [
    "df = pd.read_excel(\"/home/susan/Downloads/DSPL_full_library.xlsx\")"
   ]
  },
  {
   "cell_type": "code",
   "execution_count": 4,
   "metadata": {},
   "outputs": [
    {
     "name": "stdout",
     "output_type": "stream",
     "text": [
      "<class 'pandas.core.frame.DataFrame'>\n",
      "RangeIndex: 772 entries, 0 to 771\n",
      "Data columns (total 7 columns):\n",
      "1536 Location    772 non-null object\n",
      "NAME             772 non-null object\n",
      "SMILES           772 non-null object\n",
      "Supplier         772 non-null object\n",
      "Supplier_code    772 non-null object\n",
      "molWeight        772 non-null float64\n",
      "Conc (mMol)      772 non-null int64\n",
      "dtypes: float64(1), int64(1), object(5)\n",
      "memory usage: 42.3+ KB\n"
     ]
    }
   ],
   "source": [
    "df.info()"
   ]
  },
  {
   "cell_type": "code",
   "execution_count": 5,
   "metadata": {},
   "outputs": [
    {
     "name": "stdout",
     "output_type": "stream",
     "text": [
      "Length of SMILES: 772\n"
     ]
    }
   ],
   "source": [
    "smiles = df.SMILES.values.tolist()\n",
    "print(\"Length of SMILES: %i\" %len(smiles))"
   ]
  },
  {
   "cell_type": "markdown",
   "metadata": {},
   "source": [
    "Now let's calculate the FGs for each SMILES "
   ]
  },
  {
   "cell_type": "code",
   "execution_count": 6,
   "metadata": {},
   "outputs": [],
   "source": [
    "all_res = []\n",
    "for sm in smiles:\n",
    "    m = Chem.MolFromSmiles(sm)\n",
    "    res = ifg.identify_functional_groups(m)\n",
    "    all_res.append(res)"
   ]
  },
  {
   "cell_type": "markdown",
   "metadata": {},
   "source": [
    "Then create a dictionary with the types of functional groups in the DSPL library and in what proportion they are present. If a functional group is present more than once in a molecule then we only count it once."
   ]
  },
  {
   "cell_type": "code",
   "execution_count": 7,
   "metadata": {},
   "outputs": [],
   "source": [
    "types = {}\n",
    "for res in all_res: # looping through mols\n",
    "    tmp = []\n",
    "    for ifg in res:\n",
    "        # make sure the count of types is max once per molecule\n",
    "        if ifg.type in tmp: continue\n",
    "        else: tmp.append(ifg.type)\n",
    "            \n",
    "        if ifg.type not in types.keys():\n",
    "            types[ifg.type] = 1\n",
    "        else:\n",
    "            types[ifg.type] += 1"
   ]
  },
  {
   "cell_type": "code",
   "execution_count": 8,
   "metadata": {},
   "outputs": [
    {
     "data": {
      "text/plain": [
       "{'C[NH+](C)C': 106,\n",
       " 'cN(C)C': 52,\n",
       " 'c[nH+]c': 3,\n",
       " 'cCl': 49,\n",
       " 'cOC': 123,\n",
       " 'C[NH2+]C': 48,\n",
       " 'cF': 60,\n",
       " 'CC#N': 16,\n",
       " 'COC': 81,\n",
       " 'cO': 51,\n",
       " 'cNC(C)=O': 103,\n",
       " 'cNC(N)=S': 3,\n",
       " 'cnc': 170,\n",
       " 'cnoc': 37,\n",
       " 'COC(C)=O': 16,\n",
       " 'C[NH3+]': 15,\n",
       " 'CF': 25,\n",
       " 'CC(=O)[O-]': 14,\n",
       " 'CN(C)C(=O)N(C)C': 3,\n",
       " 'cC(=O)[O-]': 17,\n",
       " 'cN': 58,\n",
       " 'CC(=O)N(C)C': 28,\n",
       " 'cN(C)N': 1,\n",
       " 'coc': 55,\n",
       " 'cNS(C)(=O)=O': 6,\n",
       " 'csc': 92,\n",
       " 'cC(N)=S': 1,\n",
       " 'cC#N': 21,\n",
       " 'CO': 50,\n",
       " 'COC(=O)N(C)C': 7,\n",
       " 'cnnc': 40,\n",
       " 'c[nH]c': 48,\n",
       " 'CNS(C)(=O)=O': 4,\n",
       " 'c1cnon1': 6,\n",
       " 'cNC': 25,\n",
       " 'CNC(C)=O': 42,\n",
       " 'CNC(=O)NC': 7,\n",
       " 'cNC(=O)OC': 13,\n",
       " 'cNC(c)=O': 52,\n",
       " 'cC(=O)N(C)C': 22,\n",
       " 'cn[nH]c': 19,\n",
       " 'cNC(=O)N(C)C': 11,\n",
       " 'cC(=O)NC': 44,\n",
       " 'c1csnn1': 8,\n",
       " 'CS(C)(=O)=O': 5,\n",
       " 'c=O': 23,\n",
       " 'c1cOCO1': 12,\n",
       " 'cNc': 28,\n",
       " 'cNC(=O)NC': 17,\n",
       " 'CNC(=O)N(C)C': 8,\n",
       " 'c-n(c)c': 3,\n",
       " 'cC(=O)n(c)c': 1,\n",
       " 'CC(N)=O': 16,\n",
       " 'Cn1ncnn1': 8,\n",
       " 'cSC': 10,\n",
       " 'cS(=O)(=O)N(C)C': 3,\n",
       " 'CN(C)S(C)(=O)=O': 3,\n",
       " 'cC(N)=O': 19,\n",
       " 'cNC(C)=CC(C)=O': 4,\n",
       " 'c-n1cnnn1': 2,\n",
       " 'cN1C(=O)CCC1=O': 1,\n",
       " 'cn(c)N': 1,\n",
       " 'cC#CC(=O)[O-]': 1,\n",
       " 'cC(=O)NN': 5,\n",
       " 'cS(N)(=O)=O': 5,\n",
       " 'c-n1ccnn1': 2,\n",
       " 'cBr': 2,\n",
       " 'cC(=O)NO': 2,\n",
       " 'cn(c)C': 10,\n",
       " 'cNC#N': 1,\n",
       " 'cC#CC': 3,\n",
       " 'CC(=O)NC(C)=O': 1,\n",
       " 'cNC(=O)Nn(c)c': 3,\n",
       " 'Cn1cnnn1': 3,\n",
       " 'cOc': 4,\n",
       " 'cC(=O)OC': 31,\n",
       " 'cNNC(C)=O': 3,\n",
       " 'cC(C)=O': 10,\n",
       " 'cnn(c)c': 3,\n",
       " 'cNNC(N)=S': 4,\n",
       " 'O=C1NCC=C(C(=O)[O-])N1': 1,\n",
       " 'CN(C)S(=O)(=O)N(C)C': 1,\n",
       " 'cNS(c)(=O)=O': 2,\n",
       " 'cnn(c)C': 17,\n",
       " 'cNNC(=O)OC': 1,\n",
       " 'c-n(c)nc': 1,\n",
       " 'cNNC(c)=O': 5,\n",
       " 'cNC(=O)Nc': 8,\n",
       " 'cC#Cc': 1,\n",
       " 'CONC(N)=O': 1,\n",
       " 'cNC(=O)NOC': 1,\n",
       " 'cN(C)C(C)=O': 4,\n",
       " 'c[NH+](C)C': 1,\n",
       " 'cN(C)S(C)(=O)=O': 1,\n",
       " 'cN(C)C(=S)NC(C)=O': 1,\n",
       " 'CN1C[C@H](NO)SC1=S': 1,\n",
       " 'cC#CC(=O)OC': 2,\n",
       " 'CC(=O)NN': 2,\n",
       " 'cn(c)NC(C)=O': 3,\n",
       " 'cNC(N)=O': 2,\n",
       " 'CSC': 3,\n",
       " 'O=C1CNC(=O)N1': 3,\n",
       " 'CC=CC': 4,\n",
       " 'CN(C)O': 1,\n",
       " 'c[O-]': 1,\n",
       " 'CC#CC': 1,\n",
       " 'CC(=O)OC': 2,\n",
       " 'CC=C(C)C': 3,\n",
       " 'cn(c)c': 1,\n",
       " 'c[N+](C)(C)C': 1,\n",
       " 'CN(C)C(C)=O': 1,\n",
       " 'cOC(=O)N(C)C': 2,\n",
       " 'CN1C(=O)ccC1=O': 1,\n",
       " 'CC(=O)NC': 2,\n",
       " 'cnsc': 1,\n",
       " 'cOC(C)=O': 3,\n",
       " 'CN(C)C(=O)NC': 1,\n",
       " 'CN1CCC(=O)N1': 1,\n",
       " 'cOC(=O)NC': 1,\n",
       " 'C#Cc': 1,\n",
       " 'CCl': 1,\n",
       " 'CC1(C)OCCO1': 2,\n",
       " 'CN(C)C(N)=O': 3,\n",
       " 'c1cnsn1': 2,\n",
       " 'cN(C)C#N': 1,\n",
       " 'cn(c)NC': 1,\n",
       " 'O=S1(=O)C=CCC1': 2,\n",
       " 'cOC(c)=O': 2,\n",
       " 'cN(C)OC': 1,\n",
       " 'cC(=O)ON': 1,\n",
       " 'CNC(=O)OC': 3,\n",
       " 'cC(c)=O': 1,\n",
       " 'COC(=O)NO': 1,\n",
       " 'cNO': 1,\n",
       " 'cC(=O)Nn(c)c': 2,\n",
       " 'cC(=O)N(c)C': 1,\n",
       " 'cC(=O)NC(=S)N(C)C': 1,\n",
       " 'CC(=O)NN(C)C': 2,\n",
       " 'c[nH]n(c)C': 1}"
      ]
     },
     "execution_count": 8,
     "metadata": {},
     "output_type": "execute_result"
    }
   ],
   "source": [
    "types"
   ]
  },
  {
   "cell_type": "code",
   "execution_count": 9,
   "metadata": {},
   "outputs": [
    {
     "data": {
      "text/plain": [
       "[('cnc', 170),\n",
       " ('cOC', 123),\n",
       " ('C[NH+](C)C', 106),\n",
       " ('cNC(C)=O', 103),\n",
       " ('csc', 92),\n",
       " ('COC', 81),\n",
       " ('cF', 60),\n",
       " ('cN', 58),\n",
       " ('coc', 55),\n",
       " ('cN(C)C', 52),\n",
       " ('cNC(c)=O', 52),\n",
       " ('cO', 51),\n",
       " ('CO', 50),\n",
       " ('cCl', 49),\n",
       " ('C[NH2+]C', 48),\n",
       " ('c[nH]c', 48),\n",
       " ('cC(=O)NC', 44),\n",
       " ('CNC(C)=O', 42),\n",
       " ('cnnc', 40),\n",
       " ('cnoc', 37),\n",
       " ('cC(=O)OC', 31),\n",
       " ('CC(=O)N(C)C', 28),\n",
       " ('cNc', 28),\n",
       " ('CF', 25),\n",
       " ('cNC', 25),\n",
       " ('c=O', 23),\n",
       " ('cC(=O)N(C)C', 22),\n",
       " ('cC#N', 21),\n",
       " ('cn[nH]c', 19),\n",
       " ('cC(N)=O', 19),\n",
       " ('cC(=O)[O-]', 17),\n",
       " ('cNC(=O)NC', 17),\n",
       " ('cnn(c)C', 17),\n",
       " ('CC#N', 16),\n",
       " ('COC(C)=O', 16),\n",
       " ('CC(N)=O', 16),\n",
       " ('C[NH3+]', 15),\n",
       " ('CC(=O)[O-]', 14),\n",
       " ('cNC(=O)OC', 13),\n",
       " ('c1cOCO1', 12),\n",
       " ('cNC(=O)N(C)C', 11),\n",
       " ('cSC', 10),\n",
       " ('cn(c)C', 10),\n",
       " ('cC(C)=O', 10),\n",
       " ('c1csnn1', 8),\n",
       " ('CNC(=O)N(C)C', 8),\n",
       " ('Cn1ncnn1', 8),\n",
       " ('cNC(=O)Nc', 8),\n",
       " ('COC(=O)N(C)C', 7),\n",
       " ('CNC(=O)NC', 7),\n",
       " ('cNS(C)(=O)=O', 6),\n",
       " ('c1cnon1', 6),\n",
       " ('CS(C)(=O)=O', 5),\n",
       " ('cC(=O)NN', 5),\n",
       " ('cS(N)(=O)=O', 5),\n",
       " ('cNNC(c)=O', 5),\n",
       " ('CNS(C)(=O)=O', 4),\n",
       " ('cNC(C)=CC(C)=O', 4),\n",
       " ('cOc', 4),\n",
       " ('cNNC(N)=S', 4),\n",
       " ('cN(C)C(C)=O', 4),\n",
       " ('CC=CC', 4),\n",
       " ('c[nH+]c', 3),\n",
       " ('cNC(N)=S', 3),\n",
       " ('CN(C)C(=O)N(C)C', 3),\n",
       " ('c-n(c)c', 3),\n",
       " ('cS(=O)(=O)N(C)C', 3),\n",
       " ('CN(C)S(C)(=O)=O', 3),\n",
       " ('cC#CC', 3),\n",
       " ('cNC(=O)Nn(c)c', 3),\n",
       " ('Cn1cnnn1', 3),\n",
       " ('cNNC(C)=O', 3),\n",
       " ('cnn(c)c', 3),\n",
       " ('cn(c)NC(C)=O', 3),\n",
       " ('CSC', 3),\n",
       " ('O=C1CNC(=O)N1', 3),\n",
       " ('CC=C(C)C', 3),\n",
       " ('cOC(C)=O', 3),\n",
       " ('CN(C)C(N)=O', 3),\n",
       " ('CNC(=O)OC', 3),\n",
       " ('c-n1cnnn1', 2),\n",
       " ('c-n1ccnn1', 2),\n",
       " ('cBr', 2),\n",
       " ('cC(=O)NO', 2),\n",
       " ('cNS(c)(=O)=O', 2),\n",
       " ('cC#CC(=O)OC', 2),\n",
       " ('CC(=O)NN', 2),\n",
       " ('cNC(N)=O', 2),\n",
       " ('CC(=O)OC', 2),\n",
       " ('cOC(=O)N(C)C', 2),\n",
       " ('CC(=O)NC', 2),\n",
       " ('CC1(C)OCCO1', 2),\n",
       " ('c1cnsn1', 2),\n",
       " ('O=S1(=O)C=CCC1', 2),\n",
       " ('cOC(c)=O', 2),\n",
       " ('cC(=O)Nn(c)c', 2),\n",
       " ('CC(=O)NN(C)C', 2),\n",
       " ('cN(C)N', 1),\n",
       " ('cC(N)=S', 1),\n",
       " ('cC(=O)n(c)c', 1),\n",
       " ('cN1C(=O)CCC1=O', 1),\n",
       " ('cn(c)N', 1),\n",
       " ('cC#CC(=O)[O-]', 1),\n",
       " ('cNC#N', 1),\n",
       " ('CC(=O)NC(C)=O', 1),\n",
       " ('O=C1NCC=C(C(=O)[O-])N1', 1),\n",
       " ('CN(C)S(=O)(=O)N(C)C', 1),\n",
       " ('cNNC(=O)OC', 1),\n",
       " ('c-n(c)nc', 1),\n",
       " ('cC#Cc', 1),\n",
       " ('CONC(N)=O', 1),\n",
       " ('cNC(=O)NOC', 1),\n",
       " ('c[NH+](C)C', 1),\n",
       " ('cN(C)S(C)(=O)=O', 1),\n",
       " ('cN(C)C(=S)NC(C)=O', 1),\n",
       " ('CN1C[C@H](NO)SC1=S', 1),\n",
       " ('CN(C)O', 1),\n",
       " ('c[O-]', 1),\n",
       " ('CC#CC', 1),\n",
       " ('cn(c)c', 1),\n",
       " ('c[N+](C)(C)C', 1),\n",
       " ('CN(C)C(C)=O', 1),\n",
       " ('CN1C(=O)ccC1=O', 1),\n",
       " ('cnsc', 1),\n",
       " ('CN(C)C(=O)NC', 1),\n",
       " ('CN1CCC(=O)N1', 1),\n",
       " ('cOC(=O)NC', 1),\n",
       " ('C#Cc', 1),\n",
       " ('CCl', 1),\n",
       " ('cN(C)C#N', 1),\n",
       " ('cn(c)NC', 1),\n",
       " ('cN(C)OC', 1),\n",
       " ('cC(=O)ON', 1),\n",
       " ('cC(c)=O', 1),\n",
       " ('COC(=O)NO', 1),\n",
       " ('cNO', 1),\n",
       " ('cC(=O)N(c)C', 1),\n",
       " ('cC(=O)NC(=S)N(C)C', 1),\n",
       " ('c[nH]n(c)C', 1)]"
      ]
     },
     "execution_count": 9,
     "metadata": {},
     "output_type": "execute_result"
    }
   ],
   "source": [
    "sorted_types = sorted(types.items(), key=operator.itemgetter(1),  reverse=True)\n",
    "sorted_types"
   ]
  },
  {
   "cell_type": "code",
   "execution_count": 10,
   "metadata": {},
   "outputs": [
    {
     "data": {
      "image/png": "[encoded data removed]",
      "text/plain": [
       "<PIL.Image.Image image mode=RGBA size=2000x200 at 0x7F23E82BECC0>"
      ]
     },
     "execution_count": 10,
     "metadata": {},
     "output_type": "execute_result"
    }
   ],
   "source": [
    "legs = []\n",
    "for sm, count in sorted_types[:10]:\n",
    "    pc = \"%.1f\" %(count/float(len(smiles))*100)\n",
    "    legs.append(\"%s%% \\t %s\" %(pc, sm))\n",
    "    \n",
    "Draw.MolsToImage([Chem.MolFromSmarts(x) for x,y in sorted_types[:10]],\n",
    "                     legends=legs\n",
    "                    )"
   ]
  },
  {
   "cell_type": "markdown",
   "metadata": {},
   "source": [
    "Nice! Now we have most common functional groups from the DSPL library. The percentages are shown below which shows the proportion of molecules in the DSPL library in which this particular group is present."
   ]
  },
  {
   "cell_type": "code",
   "execution_count": null,
   "metadata": {},
   "outputs": [],
   "source": []
  }
 ],
 "metadata": {
  "kernelspec": {
   "display_name": "Python 3",
   "language": "python",
   "name": "python3"
  },
  "language_info": {
   "codemirror_mode": {
    "name": "ipython",
    "version": 3
   },
   "file_extension": ".py",
   "mimetype": "text/x-python",
   "name": "python",
   "nbconvert_exporter": "python",
   "pygments_lexer": "ipython3",
   "version": "3.6.8"
  }
 },
 "nbformat": 4,
 "nbformat_minor": 2
}
